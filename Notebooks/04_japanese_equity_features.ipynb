{
 "cells": [
  {
   "cell_type": "markdown",
   "metadata": {},
   "source": [
    "# Japanese Equity Data - Feature Engineering"
   ]
  },
  {
   "cell_type": "markdown",
   "metadata": {},
   "source": [
    "## Imports & Settings"
   ]
  },
  {
   "cell_type": "code",
   "execution_count": 3,
   "metadata": {
    "ExecuteTime": {
     "end_time": "2021-04-16T00:36:28.219958Z",
     "start_time": "2021-04-16T00:36:28.216623Z"
    }
   },
   "outputs": [],
   "source": [
    "import warnings\n",
    "warnings.filterwarnings('ignore')"
   ]
  },
  {
   "cell_type": "code",
   "execution_count": 4,
   "metadata": {
    "ExecuteTime": {
     "end_time": "2021-04-16T00:36:28.906426Z",
     "start_time": "2021-04-16T00:36:28.380747Z"
    }
   },
   "outputs": [],
   "source": [
    "%matplotlib inline\n",
    "\n",
    "from pathlib import Path\n",
    "\n",
    "import numpy as np\n",
    "import pandas as pd\n",
    "import talib\n",
    "\n",
    "import matplotlib.pyplot as plt\n",
    "import seaborn as sns"
   ]
  },
  {
   "cell_type": "code",
   "execution_count": 5,
   "metadata": {
    "ExecuteTime": {
     "end_time": "2021-04-16T00:36:28.909816Z",
     "start_time": "2021-04-16T00:36:28.907451Z"
    }
   },
   "outputs": [],
   "source": [
    "sns.set_style('white')"
   ]
  },
  {
   "cell_type": "code",
   "execution_count": 6,
   "metadata": {
    "ExecuteTime": {
     "end_time": "2021-04-16T00:36:28.923605Z",
     "start_time": "2021-04-16T00:36:28.911339Z"
    }
   },
   "outputs": [],
   "source": [
    "idx = pd.IndexSlice"
   ]
  },
  {
   "cell_type": "markdown",
   "metadata": {},
   "source": [
    "## Get Data"
   ]
  },
  {
   "cell_type": "markdown",
   "metadata": {},
   "source": [
    "### Stooq Japanese Equity data 2014-2019"
   ]
  },
  {
   "cell_type": "code",
   "execution_count": 50,
   "metadata": {
    "ExecuteTime": {
     "end_time": "2021-04-16T00:36:29.953176Z",
     "start_time": "2021-04-16T00:36:29.951307Z"
    }
   },
   "outputs": [],
   "source": [
    "# DATA_DIR = Path('..', 'data')"
   ]
  },
  {
   "cell_type": "code",
   "execution_count": 51,
   "metadata": {
    "ExecuteTime": {
     "end_time": "2021-04-16T00:36:40.985381Z",
     "start_time": "2021-04-16T00:36:30.597536Z"
    }
   },
   "outputs": [],
   "source": [
    "# prices = (pd.read_hdf(DATA_DIR / 'assets.h5', 'stooq/jp/tse/stocks/prices')\n",
    "#           .loc[idx[:, '2010': '2019'], :]\n",
    "#           .loc[lambda df: ~df.index.duplicated(), :])"
   ]
  },
  {
   "cell_type": "code",
   "execution_count": 7,
   "metadata": {
    "ExecuteTime": {
     "end_time": "2021-04-16T00:36:41.143801Z",
     "start_time": "2021-04-16T00:36:40.986398Z"
    }
   },
   "outputs": [
    {
     "name": "stdout",
     "output_type": "stream",
     "text": [
      "<class 'pandas.core.frame.DataFrame'>\n",
      "MultiIndex: 7491767 entries, ('1301.JP', Timestamp('2010-01-04 00:00:00')) to ('9997.JP', Timestamp('2019-12-30 00:00:00'))\n",
      "Data columns (total 5 columns):\n",
      " #   Column  Non-Null Count    Dtype  \n",
      "---  ------  --------------    -----  \n",
      " 0   open    7491767 non-null  float64\n",
      " 1   high    7491767 non-null  float64\n",
      " 2   low     7491767 non-null  float64\n",
      " 3   close   7491767 non-null  float64\n",
      " 4   volume  7491767 non-null  int64  \n",
      "dtypes: float64(4), int64(1)\n",
      "memory usage: 314.7+ MB\n"
     ]
    }
   ],
   "source": [
    "# prices.info(show_counts=True)"
   ]
  },
  {
   "cell_type": "code",
   "execution_count": 39,
   "metadata": {},
   "outputs": [
    {
     "name": "stdout",
     "output_type": "stream",
     "text": [
      "<class 'pandas.core.frame.DataFrame'>\n",
      "MultiIndex: 2610 entries, ('AAPL', Timestamp('2020-12-07 09:30:00-0500', tz='pytz.FixedOffset(-300)')) to ('AAPL', Timestamp('2020-12-15 14:05:00-0500', tz='pytz.FixedOffset(-300)'))\n",
      "Data columns (total 5 columns):\n",
      " #   Column  Non-Null Count  Dtype  \n",
      "---  ------  --------------  -----  \n",
      " 0   open    2610 non-null   float64\n",
      " 1   high    2610 non-null   float64\n",
      " 2   low     2610 non-null   float64\n",
      " 3   close   2610 non-null   float64\n",
      " 4   volume  2610 non-null   int64  \n",
      "dtypes: float64(4), int64(1)\n",
      "memory usage: 194.7+ KB\n"
     ]
    }
   ],
   "source": [
    "df = pd.read_csv(\"./minute/AAPL.csv\")\n",
    "df['ticker'] = 'AAPL'\n",
    "df['date'] = pd.to_datetime(df['date'])\n",
    "df = df.set_index(['date', 'ticker'])\n",
    "df = df.reorder_levels(['ticker', 'date'])\n",
    "df.info()"
   ]
  },
  {
   "cell_type": "code",
   "execution_count": 32,
   "metadata": {},
   "outputs": [
    {
     "data": {
      "text/html": [
       "<div>\n",
       "<style scoped>\n",
       "    .dataframe tbody tr th:only-of-type {\n",
       "        vertical-align: middle;\n",
       "    }\n",
       "\n",
       "    .dataframe tbody tr th {\n",
       "        vertical-align: top;\n",
       "    }\n",
       "\n",
       "    .dataframe thead th {\n",
       "        text-align: right;\n",
       "    }\n",
       "</style>\n",
       "<table border=\"1\" class=\"dataframe\">\n",
       "  <thead>\n",
       "    <tr style=\"text-align: right;\">\n",
       "      <th></th>\n",
       "      <th></th>\n",
       "      <th>open</th>\n",
       "      <th>high</th>\n",
       "      <th>low</th>\n",
       "      <th>close</th>\n",
       "      <th>volume</th>\n",
       "    </tr>\n",
       "    <tr>\n",
       "      <th>ticker</th>\n",
       "      <th>date</th>\n",
       "      <th></th>\n",
       "      <th></th>\n",
       "      <th></th>\n",
       "      <th></th>\n",
       "      <th></th>\n",
       "    </tr>\n",
       "  </thead>\n",
       "  <tbody>\n",
       "    <tr>\n",
       "      <th rowspan=\"5\" valign=\"top\">AAPL</th>\n",
       "      <th>2020-12-07 09:30:00-05:00</th>\n",
       "      <td>369.019989</td>\n",
       "      <td>369.109985</td>\n",
       "      <td>368.920013</td>\n",
       "      <td>368.929993</td>\n",
       "      <td>1273791</td>\n",
       "    </tr>\n",
       "    <tr>\n",
       "      <th>2020-12-07 09:31:00-05:00</th>\n",
       "      <td>368.929993</td>\n",
       "      <td>369.170013</td>\n",
       "      <td>368.899994</td>\n",
       "      <td>369.040008</td>\n",
       "      <td>261070</td>\n",
       "    </tr>\n",
       "    <tr>\n",
       "      <th>2020-12-07 09:32:00-05:00</th>\n",
       "      <td>369.049988</td>\n",
       "      <td>369.070007</td>\n",
       "      <td>369.029999</td>\n",
       "      <td>369.040008</td>\n",
       "      <td>34989</td>\n",
       "    </tr>\n",
       "    <tr>\n",
       "      <th>2020-12-07 09:34:00-05:00</th>\n",
       "      <td>369.160004</td>\n",
       "      <td>369.209900</td>\n",
       "      <td>369.019989</td>\n",
       "      <td>369.059998</td>\n",
       "      <td>438059</td>\n",
       "    </tr>\n",
       "    <tr>\n",
       "      <th>2020-12-07 09:35:00-05:00</th>\n",
       "      <td>369.040008</td>\n",
       "      <td>369.089996</td>\n",
       "      <td>369.040008</td>\n",
       "      <td>369.049988</td>\n",
       "      <td>4296</td>\n",
       "    </tr>\n",
       "  </tbody>\n",
       "</table>\n",
       "</div>"
      ],
      "text/plain": [
       "                                        open        high         low  \\\n",
       "ticker date                                                            \n",
       "AAPL   2020-12-07 09:30:00-05:00  369.019989  369.109985  368.920013   \n",
       "       2020-12-07 09:31:00-05:00  368.929993  369.170013  368.899994   \n",
       "       2020-12-07 09:32:00-05:00  369.049988  369.070007  369.029999   \n",
       "       2020-12-07 09:34:00-05:00  369.160004  369.209900  369.019989   \n",
       "       2020-12-07 09:35:00-05:00  369.040008  369.089996  369.040008   \n",
       "\n",
       "                                       close   volume  \n",
       "ticker date                                            \n",
       "AAPL   2020-12-07 09:30:00-05:00  368.929993  1273791  \n",
       "       2020-12-07 09:31:00-05:00  369.040008   261070  \n",
       "       2020-12-07 09:32:00-05:00  369.040008    34989  \n",
       "       2020-12-07 09:34:00-05:00  369.059998   438059  \n",
       "       2020-12-07 09:35:00-05:00  369.049988     4296  "
      ]
     },
     "execution_count": 32,
     "metadata": {},
     "output_type": "execute_result"
    }
   ],
   "source": [
    "df.head()"
   ]
  },
  {
   "cell_type": "code",
   "execution_count": 40,
   "metadata": {},
   "outputs": [
    {
     "data": {
      "text/plain": [
       "open      float64\n",
       "high      float64\n",
       "low       float64\n",
       "close     float64\n",
       "volume      int64\n",
       "dtype: object"
      ]
     },
     "execution_count": 40,
     "metadata": {},
     "output_type": "execute_result"
    }
   ],
   "source": [
    "df.dtypes"
   ]
  },
  {
   "cell_type": "code",
   "execution_count": 44,
   "metadata": {},
   "outputs": [
    {
     "name": "stdout",
     "output_type": "stream",
     "text": [
      "<class 'pandas.core.frame.DataFrame'>\n",
      "MultiIndex: 2610 entries, ('AAPL', Timestamp('2020-12-07 09:30:00-0500', tz='pytz.FixedOffset(-300)')) to ('AAPL', Timestamp('2020-12-15 14:05:00-0500', tz='pytz.FixedOffset(-300)'))\n",
      "Data columns (total 5 columns):\n",
      " #   Column  Non-Null Count  Dtype  \n",
      "---  ------  --------------  -----  \n",
      " 0   open    2610 non-null   float64\n",
      " 1   high    2610 non-null   float64\n",
      " 2   low     2610 non-null   float64\n",
      " 3   close   2610 non-null   float64\n",
      " 4   volume  2610 non-null   int64  \n",
      "dtypes: float64(4), int64(1)\n",
      "memory usage: 194.7+ KB\n",
      "None\n"
     ]
    }
   ],
   "source": [
    "DATA_STORE = Path('assets.h5')\n",
    "\n",
    "\n",
    "print(df.info(null_counts=True))\n",
    "\n",
    "\n",
    "# Identify the problematic index level(s) and convert them to object\n",
    "for i, level in enumerate(df.index.levels):\n",
    "    if pd.api.types.is_extension_array_dtype(level):\n",
    "        df.index = df.index.set_levels(level.astype('object'), level=i)\n",
    "\n",
    "# Now try saving again\n",
    "with pd.HDFStore(DATA_STORE) as store:\n",
    "    store.put('quandl/wiki/prices', df)"
   ]
  },
  {
   "cell_type": "code",
   "execution_count": null,
   "metadata": {},
   "outputs": [],
   "source": []
  },
  {
   "cell_type": "code",
   "execution_count": 52,
   "metadata": {},
   "outputs": [
    {
     "name": "stdout",
     "output_type": "stream",
     "text": [
      "<class 'pandas.core.frame.DataFrame'>\n",
      "MultiIndex: 2610 entries, ('AAPL', Timestamp('2020-12-07 09:30:00-0500', tz='pytz.FixedOffset(-300)')) to ('AAPL', Timestamp('2020-12-15 14:05:00-0500', tz='pytz.FixedOffset(-300)'))\n",
      "Data columns (total 5 columns):\n",
      " #   Column  Non-Null Count  Dtype  \n",
      "---  ------  --------------  -----  \n",
      " 0   open    2610 non-null   float64\n",
      " 1   high    2610 non-null   float64\n",
      " 2   low     2610 non-null   float64\n",
      " 3   close   2610 non-null   float64\n",
      " 4   volume  2610 non-null   int64  \n",
      "dtypes: float64(4), int64(1)\n",
      "memory usage: 194.7+ KB\n"
     ]
    }
   ],
   "source": [
    "prices = (pd.read_hdf('assets.h5', 'quandl/wiki/prices')\n",
    "          .loc[idx[:, '2020-12-07': '2020-12-15'], :]\n",
    "          .loc[lambda df: ~df.index.duplicated(), :])\n",
    "\n",
    "prices.info(show_counts=True)"
   ]
  },
  {
   "cell_type": "code",
   "execution_count": 53,
   "metadata": {
    "ExecuteTime": {
     "end_time": "2021-04-16T00:36:41.189821Z",
     "start_time": "2021-04-16T00:36:41.145040Z"
    }
   },
   "outputs": [],
   "source": [
    "before = len(prices.index.unique('ticker').unique())"
   ]
  },
  {
   "cell_type": "markdown",
   "metadata": {},
   "source": [
    "### Remove symbols with missing values"
   ]
  },
  {
   "cell_type": "code",
   "execution_count": 54,
   "metadata": {
    "ExecuteTime": {
     "end_time": "2021-04-16T00:37:07.315496Z",
     "start_time": "2021-04-16T00:37:03.137924Z"
    }
   },
   "outputs": [
    {
     "name": "stdout",
     "output_type": "stream",
     "text": [
      "<class 'pandas.core.frame.DataFrame'>\n",
      "MultiIndex: 2610 entries, ('AAPL', Timestamp('2020-12-07 09:30:00-0500', tz='pytz.FixedOffset(-300)')) to ('AAPL', Timestamp('2020-12-15 14:05:00-0500', tz='pytz.FixedOffset(-300)'))\n",
      "Data columns (total 5 columns):\n",
      " #   Column  Non-Null Count  Dtype  \n",
      "---  ------  --------------  -----  \n",
      " 0   open    2610 non-null   float64\n",
      " 1   high    2610 non-null   float64\n",
      " 2   low     2610 non-null   float64\n",
      " 3   close   2610 non-null   float64\n",
      " 4   volume  2610 non-null   int64  \n",
      "dtypes: float64(4), int64(1)\n",
      "memory usage: 194.7+ KB\n"
     ]
    }
   ],
   "source": [
    "prices = (prices.unstack('ticker')\n",
    "        .sort_index()\n",
    "        .ffill(limit=5)\n",
    "        .dropna(axis=1)\n",
    "        .stack('ticker')\n",
    "        .swaplevel())\n",
    "prices.info(show_counts=True)"
   ]
  },
  {
   "cell_type": "code",
   "execution_count": 55,
   "metadata": {
    "ExecuteTime": {
     "end_time": "2021-04-16T00:37:07.364787Z",
     "start_time": "2021-04-16T00:37:07.316695Z"
    }
   },
   "outputs": [
    {
     "name": "stdout",
     "output_type": "stream",
     "text": [
      "Before: 1 after: 1\n"
     ]
    }
   ],
   "source": [
    "after = len(prices.index.unique('ticker').unique())\n",
    "print(f'Before: {before:,.0f} after: {after:,.0f}')"
   ]
  },
  {
   "cell_type": "markdown",
   "metadata": {},
   "source": [
    "### Keep most traded symbols"
   ]
  },
  {
   "cell_type": "code",
   "execution_count": null,
   "metadata": {},
   "outputs": [],
   "source": []
  },
  {
   "cell_type": "code",
   "execution_count": null,
   "metadata": {},
   "outputs": [],
   "source": []
  },
  {
   "cell_type": "code",
   "execution_count": null,
   "metadata": {},
   "outputs": [],
   "source": []
  },
  {
   "cell_type": "code",
   "execution_count": 75,
   "metadata": {
    "ExecuteTime": {
     "end_time": "2021-04-16T00:37:11.450895Z",
     "start_time": "2021-04-16T00:37:11.125591Z"
    }
   },
   "outputs": [],
   "source": [
    "dv = prices.close.mul(prices.volume)\n",
    "keep = dv.groupby('ticker').median().nlargest(1000).index.tolist()"
   ]
  },
  {
   "cell_type": "code",
   "execution_count": 76,
   "metadata": {
    "ExecuteTime": {
     "end_time": "2021-04-16T00:38:35.220960Z",
     "start_time": "2021-04-16T00:38:35.194655Z"
    }
   },
   "outputs": [
    {
     "name": "stdout",
     "output_type": "stream",
     "text": [
      "<class 'pandas.core.frame.DataFrame'>\n",
      "MultiIndex: 2610 entries, ('AAPL', Timestamp('2020-12-07 09:30:00-0500', tz='pytz.FixedOffset(-300)')) to ('AAPL', Timestamp('2020-12-15 14:05:00-0500', tz='pytz.FixedOffset(-300)'))\n",
      "Data columns (total 5 columns):\n",
      " #   Column  Non-Null Count  Dtype  \n",
      "---  ------  --------------  -----  \n",
      " 0   open    2610 non-null   float64\n",
      " 1   high    2610 non-null   float64\n",
      " 2   low     2610 non-null   float64\n",
      " 3   close   2610 non-null   float64\n",
      " 4   volume  2610 non-null   int64  \n",
      "dtypes: float64(4), int64(1)\n",
      "memory usage: 194.7+ KB\n"
     ]
    }
   ],
   "source": [
    "prices = prices.loc[idx[keep, :], :]\n",
    "prices.info(show_counts=True)"
   ]
  },
  {
   "cell_type": "markdown",
   "metadata": {},
   "source": [
    "## Feature Engineering"
   ]
  },
  {
   "cell_type": "markdown",
   "metadata": {},
   "source": [
    "### Compute period returns"
   ]
  },
  {
   "cell_type": "code",
   "execution_count": null,
   "metadata": {},
   "outputs": [],
   "source": []
  },
  {
   "cell_type": "code",
   "execution_count": 77,
   "metadata": {
    "ExecuteTime": {
     "end_time": "2021-04-16T00:38:42.398427Z",
     "start_time": "2021-04-16T00:38:42.396326Z"
    }
   },
   "outputs": [],
   "source": [
    "intervals = [1, 5, 10, 21, 63]"
   ]
  },
  {
   "cell_type": "code",
   "execution_count": 83,
   "metadata": {
    "ExecuteTime": {
     "end_time": "2021-04-16T00:38:44.156966Z",
     "start_time": "2021-04-16T00:38:42.559913Z"
    }
   },
   "outputs": [],
   "source": [
    "returns = []\n",
    "by_ticker = prices.groupby(level='ticker').close\n",
    "for t in intervals:\n",
    "    returns.append(by_ticker.pct_change(t).to_frame(f'ret_{t}'))\n",
    "returns = pd.concat(returns, axis=1)"
   ]
  },
  {
   "cell_type": "code",
   "execution_count": 84,
   "metadata": {
    "ExecuteTime": {
     "end_time": "2021-04-16T00:38:46.129268Z",
     "start_time": "2021-04-16T00:38:46.100045Z"
    }
   },
   "outputs": [
    {
     "name": "stdout",
     "output_type": "stream",
     "text": [
      "<class 'pandas.core.frame.DataFrame'>\n",
      "MultiIndex: 2610 entries, ('AAPL', Timestamp('2020-12-07 09:30:00-0500', tz='pytz.FixedOffset(-300)')) to ('AAPL', Timestamp('2020-12-15 14:05:00-0500', tz='pytz.FixedOffset(-300)'))\n",
      "Data columns (total 5 columns):\n",
      " #   Column  Non-Null Count  Dtype  \n",
      "---  ------  --------------  -----  \n",
      " 0   ret_1   2609 non-null   float64\n",
      " 1   ret_5   2605 non-null   float64\n",
      " 2   ret_10  2600 non-null   float64\n",
      " 3   ret_21  2589 non-null   float64\n",
      " 4   ret_63  2547 non-null   float64\n",
      "dtypes: float64(5)\n",
      "memory usage: 194.7+ KB\n"
     ]
    }
   ],
   "source": [
    "returns.info(show_counts=True)"
   ]
  },
  {
   "cell_type": "markdown",
   "metadata": {},
   "source": [
    "### Remove outliers"
   ]
  },
  {
   "cell_type": "code",
   "execution_count": 85,
   "metadata": {
    "ExecuteTime": {
     "end_time": "2021-02-23T20:55:08.850013Z",
     "start_time": "2021-02-23T20:55:08.655061Z"
    }
   },
   "outputs": [],
   "source": [
    "max_ret_by_sym = returns.groupby(level='ticker').max()"
   ]
  },
  {
   "cell_type": "code",
   "execution_count": 86,
   "metadata": {
    "ExecuteTime": {
     "end_time": "2021-02-23T20:55:08.871539Z",
     "start_time": "2021-02-23T20:55:08.851093Z"
    }
   },
   "outputs": [
    {
     "data": {
      "text/html": [
       "<div>\n",
       "<style scoped>\n",
       "    .dataframe tbody tr th:only-of-type {\n",
       "        vertical-align: middle;\n",
       "    }\n",
       "\n",
       "    .dataframe tbody tr th {\n",
       "        vertical-align: top;\n",
       "    }\n",
       "\n",
       "    .dataframe thead th {\n",
       "        text-align: right;\n",
       "    }\n",
       "</style>\n",
       "<table border=\"1\" class=\"dataframe\">\n",
       "  <thead>\n",
       "    <tr style=\"text-align: right;\">\n",
       "      <th></th>\n",
       "      <th>ret_1</th>\n",
       "      <th>ret_5</th>\n",
       "      <th>ret_10</th>\n",
       "      <th>ret_21</th>\n",
       "      <th>ret_63</th>\n",
       "    </tr>\n",
       "  </thead>\n",
       "  <tbody>\n",
       "    <tr>\n",
       "      <th>count</th>\n",
       "      <td>1.000000</td>\n",
       "      <td>1.000000</td>\n",
       "      <td>1.000000</td>\n",
       "      <td>1.000000</td>\n",
       "      <td>1.000000</td>\n",
       "    </tr>\n",
       "    <tr>\n",
       "      <th>mean</th>\n",
       "      <td>0.007761</td>\n",
       "      <td>0.007679</td>\n",
       "      <td>0.008463</td>\n",
       "      <td>0.009874</td>\n",
       "      <td>0.010373</td>\n",
       "    </tr>\n",
       "    <tr>\n",
       "      <th>std</th>\n",
       "      <td>NaN</td>\n",
       "      <td>NaN</td>\n",
       "      <td>NaN</td>\n",
       "      <td>NaN</td>\n",
       "      <td>NaN</td>\n",
       "    </tr>\n",
       "    <tr>\n",
       "      <th>min</th>\n",
       "      <td>0.007761</td>\n",
       "      <td>0.007679</td>\n",
       "      <td>0.008463</td>\n",
       "      <td>0.009874</td>\n",
       "      <td>0.010373</td>\n",
       "    </tr>\n",
       "    <tr>\n",
       "      <th>50%</th>\n",
       "      <td>0.007761</td>\n",
       "      <td>0.007679</td>\n",
       "      <td>0.008463</td>\n",
       "      <td>0.009874</td>\n",
       "      <td>0.010373</td>\n",
       "    </tr>\n",
       "    <tr>\n",
       "      <th>90%</th>\n",
       "      <td>0.007761</td>\n",
       "      <td>0.007679</td>\n",
       "      <td>0.008463</td>\n",
       "      <td>0.009874</td>\n",
       "      <td>0.010373</td>\n",
       "    </tr>\n",
       "    <tr>\n",
       "      <th>95%</th>\n",
       "      <td>0.007761</td>\n",
       "      <td>0.007679</td>\n",
       "      <td>0.008463</td>\n",
       "      <td>0.009874</td>\n",
       "      <td>0.010373</td>\n",
       "    </tr>\n",
       "    <tr>\n",
       "      <th>97.5%</th>\n",
       "      <td>0.007761</td>\n",
       "      <td>0.007679</td>\n",
       "      <td>0.008463</td>\n",
       "      <td>0.009874</td>\n",
       "      <td>0.010373</td>\n",
       "    </tr>\n",
       "    <tr>\n",
       "      <th>99%</th>\n",
       "      <td>0.007761</td>\n",
       "      <td>0.007679</td>\n",
       "      <td>0.008463</td>\n",
       "      <td>0.009874</td>\n",
       "      <td>0.010373</td>\n",
       "    </tr>\n",
       "    <tr>\n",
       "      <th>99.5%</th>\n",
       "      <td>0.007761</td>\n",
       "      <td>0.007679</td>\n",
       "      <td>0.008463</td>\n",
       "      <td>0.009874</td>\n",
       "      <td>0.010373</td>\n",
       "    </tr>\n",
       "    <tr>\n",
       "      <th>99.9%</th>\n",
       "      <td>0.007761</td>\n",
       "      <td>0.007679</td>\n",
       "      <td>0.008463</td>\n",
       "      <td>0.009874</td>\n",
       "      <td>0.010373</td>\n",
       "    </tr>\n",
       "    <tr>\n",
       "      <th>max</th>\n",
       "      <td>0.007761</td>\n",
       "      <td>0.007679</td>\n",
       "      <td>0.008463</td>\n",
       "      <td>0.009874</td>\n",
       "      <td>0.010373</td>\n",
       "    </tr>\n",
       "  </tbody>\n",
       "</table>\n",
       "</div>"
      ],
      "text/plain": [
       "          ret_1     ret_5    ret_10    ret_21    ret_63\n",
       "count  1.000000  1.000000  1.000000  1.000000  1.000000\n",
       "mean   0.007761  0.007679  0.008463  0.009874  0.010373\n",
       "std         NaN       NaN       NaN       NaN       NaN\n",
       "min    0.007761  0.007679  0.008463  0.009874  0.010373\n",
       "50%    0.007761  0.007679  0.008463  0.009874  0.010373\n",
       "90%    0.007761  0.007679  0.008463  0.009874  0.010373\n",
       "95%    0.007761  0.007679  0.008463  0.009874  0.010373\n",
       "97.5%  0.007761  0.007679  0.008463  0.009874  0.010373\n",
       "99%    0.007761  0.007679  0.008463  0.009874  0.010373\n",
       "99.5%  0.007761  0.007679  0.008463  0.009874  0.010373\n",
       "99.9%  0.007761  0.007679  0.008463  0.009874  0.010373\n",
       "max    0.007761  0.007679  0.008463  0.009874  0.010373"
      ]
     },
     "execution_count": 86,
     "metadata": {},
     "output_type": "execute_result"
    }
   ],
   "source": [
    "percentiles = [0.001, .005, .01, .025, .05, .1]\n",
    "percentiles += [1-p for p in percentiles]\n",
    "max_ret_by_sym.describe(percentiles=sorted(percentiles)[6:])"
   ]
  },
  {
   "cell_type": "code",
   "execution_count": 87,
   "metadata": {
    "ExecuteTime": {
     "end_time": "2021-02-23T20:55:08.884025Z",
     "start_time": "2021-02-23T20:55:08.873299Z"
    }
   },
   "outputs": [],
   "source": [
    "quantiles = max_ret_by_sym.quantile(.95)\n",
    "to_drop = []\n",
    "for ret, q in quantiles.items():\n",
    "    to_drop.extend(max_ret_by_sym[max_ret_by_sym[ret]>q].index.tolist()) "
   ]
  },
  {
   "cell_type": "code",
   "execution_count": 88,
   "metadata": {
    "ExecuteTime": {
     "end_time": "2021-02-23T20:55:08.899082Z",
     "start_time": "2021-02-23T20:55:08.885562Z"
    }
   },
   "outputs": [
    {
     "data": {
      "text/plain": [
       "0"
      ]
     },
     "execution_count": 88,
     "metadata": {},
     "output_type": "execute_result"
    }
   ],
   "source": [
    "to_drop = pd.Series(to_drop).value_counts()\n",
    "to_drop = to_drop[to_drop > 1].index.tolist()\n",
    "len(to_drop)"
   ]
  },
  {
   "cell_type": "code",
   "execution_count": 89,
   "metadata": {
    "ExecuteTime": {
     "end_time": "2021-02-23T20:55:20.739495Z",
     "start_time": "2021-02-23T20:55:08.900191Z"
    }
   },
   "outputs": [
    {
     "name": "stdout",
     "output_type": "stream",
     "text": [
      "<class 'pandas.core.frame.DataFrame'>\n",
      "MultiIndex: 2610 entries, ('AAPL', Timestamp('2020-12-07 09:30:00-0500', tz='pytz.FixedOffset(-300)')) to ('AAPL', Timestamp('2020-12-15 14:05:00-0500', tz='pytz.FixedOffset(-300)'))\n",
      "Data columns (total 5 columns):\n",
      " #   Column  Non-Null Count  Dtype  \n",
      "---  ------  --------------  -----  \n",
      " 0   open    2610 non-null   float64\n",
      " 1   high    2610 non-null   float64\n",
      " 2   low     2610 non-null   float64\n",
      " 3   close   2610 non-null   float64\n",
      " 4   volume  2610 non-null   int64  \n",
      "dtypes: float64(4), int64(1)\n",
      "memory usage: 194.7+ KB\n"
     ]
    }
   ],
   "source": [
    "prices = prices.drop(to_drop, level='ticker')\n",
    "prices.info(show_counts=True)"
   ]
  },
  {
   "cell_type": "markdown",
   "metadata": {},
   "source": [
    "### Calculate relative return percentiles"
   ]
  },
  {
   "cell_type": "code",
   "execution_count": null,
   "metadata": {},
   "outputs": [],
   "source": []
  },
  {
   "cell_type": "code",
   "execution_count": null,
   "metadata": {},
   "outputs": [],
   "source": []
  },
  {
   "cell_type": "code",
   "execution_count": 92,
   "metadata": {},
   "outputs": [
    {
     "data": {
      "text/html": [
       "<div>\n",
       "<style scoped>\n",
       "    .dataframe tbody tr th:only-of-type {\n",
       "        vertical-align: middle;\n",
       "    }\n",
       "\n",
       "    .dataframe tbody tr th {\n",
       "        vertical-align: top;\n",
       "    }\n",
       "\n",
       "    .dataframe thead th {\n",
       "        text-align: right;\n",
       "    }\n",
       "</style>\n",
       "<table border=\"1\" class=\"dataframe\">\n",
       "  <thead>\n",
       "    <tr style=\"text-align: right;\">\n",
       "      <th></th>\n",
       "      <th></th>\n",
       "      <th>open</th>\n",
       "      <th>high</th>\n",
       "      <th>low</th>\n",
       "      <th>close</th>\n",
       "      <th>volume</th>\n",
       "    </tr>\n",
       "    <tr>\n",
       "      <th>ticker</th>\n",
       "      <th>date</th>\n",
       "      <th></th>\n",
       "      <th></th>\n",
       "      <th></th>\n",
       "      <th></th>\n",
       "      <th></th>\n",
       "    </tr>\n",
       "  </thead>\n",
       "  <tbody>\n",
       "    <tr>\n",
       "      <th rowspan=\"11\" valign=\"top\">AAPL</th>\n",
       "      <th>2020-12-07 09:30:00-05:00</th>\n",
       "      <td>369.019989</td>\n",
       "      <td>369.109985</td>\n",
       "      <td>368.920013</td>\n",
       "      <td>368.929993</td>\n",
       "      <td>1273791</td>\n",
       "    </tr>\n",
       "    <tr>\n",
       "      <th>2020-12-07 09:31:00-05:00</th>\n",
       "      <td>368.929993</td>\n",
       "      <td>369.170013</td>\n",
       "      <td>368.899994</td>\n",
       "      <td>369.040008</td>\n",
       "      <td>261070</td>\n",
       "    </tr>\n",
       "    <tr>\n",
       "      <th>2020-12-07 09:32:00-05:00</th>\n",
       "      <td>369.049988</td>\n",
       "      <td>369.070007</td>\n",
       "      <td>369.029999</td>\n",
       "      <td>369.040008</td>\n",
       "      <td>34989</td>\n",
       "    </tr>\n",
       "    <tr>\n",
       "      <th>2020-12-07 09:34:00-05:00</th>\n",
       "      <td>369.160004</td>\n",
       "      <td>369.209900</td>\n",
       "      <td>369.019989</td>\n",
       "      <td>369.059998</td>\n",
       "      <td>438059</td>\n",
       "    </tr>\n",
       "    <tr>\n",
       "      <th>2020-12-07 09:35:00-05:00</th>\n",
       "      <td>369.040008</td>\n",
       "      <td>369.089996</td>\n",
       "      <td>369.040008</td>\n",
       "      <td>369.049988</td>\n",
       "      <td>4296</td>\n",
       "    </tr>\n",
       "    <tr>\n",
       "      <th>...</th>\n",
       "      <td>...</td>\n",
       "      <td>...</td>\n",
       "      <td>...</td>\n",
       "      <td>...</td>\n",
       "      <td>...</td>\n",
       "    </tr>\n",
       "    <tr>\n",
       "      <th>2020-12-15 14:01:00-05:00</th>\n",
       "      <td>369.089996</td>\n",
       "      <td>369.089996</td>\n",
       "      <td>369.001099</td>\n",
       "      <td>369.045013</td>\n",
       "      <td>58115</td>\n",
       "    </tr>\n",
       "    <tr>\n",
       "      <th>2020-12-15 14:02:00-05:00</th>\n",
       "      <td>369.040008</td>\n",
       "      <td>369.040008</td>\n",
       "      <td>368.980011</td>\n",
       "      <td>368.994995</td>\n",
       "      <td>52999</td>\n",
       "    </tr>\n",
       "    <tr>\n",
       "      <th>2020-12-15 14:03:00-05:00</th>\n",
       "      <td>369.010010</td>\n",
       "      <td>369.019989</td>\n",
       "      <td>368.970001</td>\n",
       "      <td>369.010010</td>\n",
       "      <td>80191</td>\n",
       "    </tr>\n",
       "    <tr>\n",
       "      <th>2020-12-15 14:04:00-05:00</th>\n",
       "      <td>369.049988</td>\n",
       "      <td>369.100006</td>\n",
       "      <td>368.980011</td>\n",
       "      <td>369.011108</td>\n",
       "      <td>82337</td>\n",
       "    </tr>\n",
       "    <tr>\n",
       "      <th>2020-12-15 14:05:00-05:00</th>\n",
       "      <td>369.079987</td>\n",
       "      <td>369.079987</td>\n",
       "      <td>369.079987</td>\n",
       "      <td>369.079987</td>\n",
       "      <td>0</td>\n",
       "    </tr>\n",
       "  </tbody>\n",
       "</table>\n",
       "<p>2610 rows × 5 columns</p>\n",
       "</div>"
      ],
      "text/plain": [
       "                                        open        high         low  \\\n",
       "ticker date                                                            \n",
       "AAPL   2020-12-07 09:30:00-05:00  369.019989  369.109985  368.920013   \n",
       "       2020-12-07 09:31:00-05:00  368.929993  369.170013  368.899994   \n",
       "       2020-12-07 09:32:00-05:00  369.049988  369.070007  369.029999   \n",
       "       2020-12-07 09:34:00-05:00  369.160004  369.209900  369.019989   \n",
       "       2020-12-07 09:35:00-05:00  369.040008  369.089996  369.040008   \n",
       "...                                      ...         ...         ...   \n",
       "       2020-12-15 14:01:00-05:00  369.089996  369.089996  369.001099   \n",
       "       2020-12-15 14:02:00-05:00  369.040008  369.040008  368.980011   \n",
       "       2020-12-15 14:03:00-05:00  369.010010  369.019989  368.970001   \n",
       "       2020-12-15 14:04:00-05:00  369.049988  369.100006  368.980011   \n",
       "       2020-12-15 14:05:00-05:00  369.079987  369.079987  369.079987   \n",
       "\n",
       "                                       close   volume  \n",
       "ticker date                                            \n",
       "AAPL   2020-12-07 09:30:00-05:00  368.929993  1273791  \n",
       "       2020-12-07 09:31:00-05:00  369.040008   261070  \n",
       "       2020-12-07 09:32:00-05:00  369.040008    34989  \n",
       "       2020-12-07 09:34:00-05:00  369.059998   438059  \n",
       "       2020-12-07 09:35:00-05:00  369.049988     4296  \n",
       "...                                      ...      ...  \n",
       "       2020-12-15 14:01:00-05:00  369.045013    58115  \n",
       "       2020-12-15 14:02:00-05:00  368.994995    52999  \n",
       "       2020-12-15 14:03:00-05:00  369.010010    80191  \n",
       "       2020-12-15 14:04:00-05:00  369.011108    82337  \n",
       "       2020-12-15 14:05:00-05:00  369.079987        0  \n",
       "\n",
       "[2610 rows x 5 columns]"
      ]
     },
     "execution_count": 92,
     "metadata": {},
     "output_type": "execute_result"
    }
   ],
   "source": [
    "prices"
   ]
  },
  {
   "cell_type": "code",
   "execution_count": 93,
   "metadata": {
    "ExecuteTime": {
     "end_time": "2021-02-23T20:56:35.060799Z",
     "start_time": "2021-02-23T20:55:20.740911Z"
    }
   },
   "outputs": [],
   "source": [
    "returns = []\n",
    "by_sym = prices.groupby(level='ticker').close\n",
    "for t in intervals:\n",
    "    ret = by_sym.pct_change(t).fillna(0)\n",
    "    rel_perc = (ret.groupby(level='date')\n",
    "             .apply(lambda x: pd.qcut(x, q=20, labels=False, duplicates='drop')))\n",
    "    returns.extend([ret.to_frame(f'ret_{t}'), rel_perc.to_frame(f'ret_rel_perc_{t}')])\n",
    "returns = pd.concat(returns, axis=1)"
   ]
  },
  {
   "cell_type": "markdown",
   "metadata": {},
   "source": [
    "### Technical Indicators"
   ]
  },
  {
   "cell_type": "markdown",
   "metadata": {},
   "source": [
    "#### Percentage Price Oscillator"
   ]
  },
  {
   "cell_type": "code",
   "execution_count": 96,
   "metadata": {
    "ExecuteTime": {
     "end_time": "2021-02-23T20:56:46.007693Z",
     "start_time": "2021-02-23T20:56:35.061783Z"
    }
   },
   "outputs": [],
   "source": [
    "ppo = prices.groupby(level='ticker').close.apply(talib.PPO).to_frame('PPO')"
   ]
  },
  {
   "cell_type": "markdown",
   "metadata": {},
   "source": [
    "#### Normalized Average True Range"
   ]
  },
  {
   "cell_type": "code",
   "execution_count": 115,
   "metadata": {
    "ExecuteTime": {
     "end_time": "2021-02-23T20:56:46.703740Z",
     "start_time": "2021-02-23T20:56:46.008746Z"
    }
   },
   "outputs": [
    {
     "data": {
      "text/html": [
       "<div>\n",
       "<style scoped>\n",
       "    .dataframe tbody tr th:only-of-type {\n",
       "        vertical-align: middle;\n",
       "    }\n",
       "\n",
       "    .dataframe tbody tr th {\n",
       "        vertical-align: top;\n",
       "    }\n",
       "\n",
       "    .dataframe thead th {\n",
       "        text-align: right;\n",
       "    }\n",
       "</style>\n",
       "<table border=\"1\" class=\"dataframe\">\n",
       "  <thead>\n",
       "    <tr style=\"text-align: right;\">\n",
       "      <th></th>\n",
       "      <th></th>\n",
       "      <th>NATR</th>\n",
       "    </tr>\n",
       "    <tr>\n",
       "      <th>ticker</th>\n",
       "      <th>date</th>\n",
       "      <th></th>\n",
       "    </tr>\n",
       "  </thead>\n",
       "  <tbody>\n",
       "    <tr>\n",
       "      <th rowspan=\"11\" valign=\"top\">AAPL</th>\n",
       "      <th>2020-12-07 09:30:00-05:00</th>\n",
       "      <td>NaN</td>\n",
       "    </tr>\n",
       "    <tr>\n",
       "      <th>2020-12-07 09:31:00-05:00</th>\n",
       "      <td>NaN</td>\n",
       "    </tr>\n",
       "    <tr>\n",
       "      <th>2020-12-07 09:32:00-05:00</th>\n",
       "      <td>NaN</td>\n",
       "    </tr>\n",
       "    <tr>\n",
       "      <th>2020-12-07 09:34:00-05:00</th>\n",
       "      <td>NaN</td>\n",
       "    </tr>\n",
       "    <tr>\n",
       "      <th>2020-12-07 09:35:00-05:00</th>\n",
       "      <td>NaN</td>\n",
       "    </tr>\n",
       "    <tr>\n",
       "      <th>...</th>\n",
       "      <td>...</td>\n",
       "    </tr>\n",
       "    <tr>\n",
       "      <th>2020-12-15 14:01:00-05:00</th>\n",
       "      <td>0.028146</td>\n",
       "    </tr>\n",
       "    <tr>\n",
       "      <th>2020-12-15 14:02:00-05:00</th>\n",
       "      <td>0.027398</td>\n",
       "    </tr>\n",
       "    <tr>\n",
       "      <th>2020-12-15 14:03:00-05:00</th>\n",
       "      <td>0.026407</td>\n",
       "    </tr>\n",
       "    <tr>\n",
       "      <th>2020-12-15 14:04:00-05:00</th>\n",
       "      <td>0.026844</td>\n",
       "    </tr>\n",
       "    <tr>\n",
       "      <th>2020-12-15 14:05:00-05:00</th>\n",
       "      <td>0.026255</td>\n",
       "    </tr>\n",
       "  </tbody>\n",
       "</table>\n",
       "<p>2610 rows × 1 columns</p>\n",
       "</div>"
      ],
      "text/plain": [
       "                                      NATR\n",
       "ticker date                               \n",
       "AAPL   2020-12-07 09:30:00-05:00       NaN\n",
       "       2020-12-07 09:31:00-05:00       NaN\n",
       "       2020-12-07 09:32:00-05:00       NaN\n",
       "       2020-12-07 09:34:00-05:00       NaN\n",
       "       2020-12-07 09:35:00-05:00       NaN\n",
       "...                                    ...\n",
       "       2020-12-15 14:01:00-05:00  0.028146\n",
       "       2020-12-15 14:02:00-05:00  0.027398\n",
       "       2020-12-15 14:03:00-05:00  0.026407\n",
       "       2020-12-15 14:04:00-05:00  0.026844\n",
       "       2020-12-15 14:05:00-05:00  0.026255\n",
       "\n",
       "[2610 rows x 1 columns]"
      ]
     },
     "execution_count": 115,
     "metadata": {},
     "output_type": "execute_result"
    }
   ],
   "source": [
    "natr = prices.groupby(level='ticker', group_keys=False).apply(lambda x: talib.NATR(x.high, x.low, x.close)).T\n",
    "\n",
    "natr.columns  = [\"NATR\"]\n",
    "natr"
   ]
  },
  {
   "cell_type": "markdown",
   "metadata": {},
   "source": [
    "#### Relative Strength Indicator"
   ]
  },
  {
   "cell_type": "code",
   "execution_count": 107,
   "metadata": {
    "ExecuteTime": {
     "end_time": "2021-02-23T20:56:56.951382Z",
     "start_time": "2021-02-23T20:56:46.704740Z"
    }
   },
   "outputs": [
    {
     "data": {
      "text/html": [
       "<div>\n",
       "<style scoped>\n",
       "    .dataframe tbody tr th:only-of-type {\n",
       "        vertical-align: middle;\n",
       "    }\n",
       "\n",
       "    .dataframe tbody tr th {\n",
       "        vertical-align: top;\n",
       "    }\n",
       "\n",
       "    .dataframe thead th {\n",
       "        text-align: right;\n",
       "    }\n",
       "</style>\n",
       "<table border=\"1\" class=\"dataframe\">\n",
       "  <thead>\n",
       "    <tr style=\"text-align: right;\">\n",
       "      <th></th>\n",
       "      <th></th>\n",
       "      <th>RSI</th>\n",
       "    </tr>\n",
       "    <tr>\n",
       "      <th>ticker</th>\n",
       "      <th>date</th>\n",
       "      <th></th>\n",
       "    </tr>\n",
       "  </thead>\n",
       "  <tbody>\n",
       "    <tr>\n",
       "      <th rowspan=\"11\" valign=\"top\">AAPL</th>\n",
       "      <th>2020-12-07 09:30:00-05:00</th>\n",
       "      <td>NaN</td>\n",
       "    </tr>\n",
       "    <tr>\n",
       "      <th>2020-12-07 09:31:00-05:00</th>\n",
       "      <td>NaN</td>\n",
       "    </tr>\n",
       "    <tr>\n",
       "      <th>2020-12-07 09:32:00-05:00</th>\n",
       "      <td>NaN</td>\n",
       "    </tr>\n",
       "    <tr>\n",
       "      <th>2020-12-07 09:34:00-05:00</th>\n",
       "      <td>NaN</td>\n",
       "    </tr>\n",
       "    <tr>\n",
       "      <th>2020-12-07 09:35:00-05:00</th>\n",
       "      <td>NaN</td>\n",
       "    </tr>\n",
       "    <tr>\n",
       "      <th>...</th>\n",
       "      <td>...</td>\n",
       "    </tr>\n",
       "    <tr>\n",
       "      <th>2020-12-15 14:01:00-05:00</th>\n",
       "      <td>55.960982</td>\n",
       "    </tr>\n",
       "    <tr>\n",
       "      <th>2020-12-15 14:02:00-05:00</th>\n",
       "      <td>52.241696</td>\n",
       "    </tr>\n",
       "    <tr>\n",
       "      <th>2020-12-15 14:03:00-05:00</th>\n",
       "      <td>53.246227</td>\n",
       "    </tr>\n",
       "    <tr>\n",
       "      <th>2020-12-15 14:04:00-05:00</th>\n",
       "      <td>53.323588</td>\n",
       "    </tr>\n",
       "    <tr>\n",
       "      <th>2020-12-15 14:05:00-05:00</th>\n",
       "      <td>58.014225</td>\n",
       "    </tr>\n",
       "  </tbody>\n",
       "</table>\n",
       "<p>2610 rows × 1 columns</p>\n",
       "</div>"
      ],
      "text/plain": [
       "                                        RSI\n",
       "ticker date                                \n",
       "AAPL   2020-12-07 09:30:00-05:00        NaN\n",
       "       2020-12-07 09:31:00-05:00        NaN\n",
       "       2020-12-07 09:32:00-05:00        NaN\n",
       "       2020-12-07 09:34:00-05:00        NaN\n",
       "       2020-12-07 09:35:00-05:00        NaN\n",
       "...                                     ...\n",
       "       2020-12-15 14:01:00-05:00  55.960982\n",
       "       2020-12-15 14:02:00-05:00  52.241696\n",
       "       2020-12-15 14:03:00-05:00  53.246227\n",
       "       2020-12-15 14:04:00-05:00  53.323588\n",
       "       2020-12-15 14:05:00-05:00  58.014225\n",
       "\n",
       "[2610 rows x 1 columns]"
      ]
     },
     "execution_count": 107,
     "metadata": {},
     "output_type": "execute_result"
    }
   ],
   "source": [
    "rsi = prices.groupby(level='ticker').close.apply(talib.RSI).to_frame('RSI')\n",
    "\n",
    "rsi"
   ]
  },
  {
   "cell_type": "markdown",
   "metadata": {},
   "source": [
    "#### Bollinger Bands"
   ]
  },
  {
   "cell_type": "code",
   "execution_count": 116,
   "metadata": {
    "ExecuteTime": {
     "end_time": "2021-02-23T20:56:56.954648Z",
     "start_time": "2021-02-23T20:56:56.952318Z"
    }
   },
   "outputs": [],
   "source": [
    "def get_bollinger(x):\n",
    "    u, m, l = talib.BBANDS(x)\n",
    "    return pd.DataFrame({'u': u, 'm': m, 'l': l})"
   ]
  },
  {
   "cell_type": "code",
   "execution_count": 117,
   "metadata": {
    "ExecuteTime": {
     "end_time": "2021-02-23T20:57:11.582203Z",
     "start_time": "2021-02-23T20:56:56.955779Z"
    }
   },
   "outputs": [],
   "source": [
    "bbands = prices.groupby(level='ticker').close.apply(get_bollinger)"
   ]
  },
  {
   "cell_type": "markdown",
   "metadata": {},
   "source": [
    "### Combine Features"
   ]
  },
  {
   "cell_type": "code",
   "execution_count": 118,
   "metadata": {
    "ExecuteTime": {
     "end_time": "2021-02-23T20:58:21.465132Z",
     "start_time": "2021-02-23T20:57:11.583380Z"
    }
   },
   "outputs": [],
   "source": [
    "data = pd.concat([prices, returns, ppo, natr, rsi, bbands], axis=1)"
   ]
  },
  {
   "cell_type": "code",
   "execution_count": 119,
   "metadata": {
    "ExecuteTime": {
     "end_time": "2021-02-23T20:58:21.670030Z",
     "start_time": "2021-02-23T20:58:21.466056Z"
    }
   },
   "outputs": [],
   "source": [
    "data['bbl'] = data.close.div(data.l)\n",
    "data['bbu'] = data.u.div(data.close)\n",
    "data = data.drop(['u', 'm', 'l'], axis=1)"
   ]
  },
  {
   "cell_type": "code",
   "execution_count": 120,
   "metadata": {
    "ExecuteTime": {
     "end_time": "2021-02-23T20:58:22.489378Z",
     "start_time": "2021-02-23T20:58:21.671030Z"
    }
   },
   "outputs": [
    {
     "data": {
      "text/plain": [
       "-0.19627901962054617"
      ]
     },
     "execution_count": 120,
     "metadata": {},
     "output_type": "execute_result"
    }
   ],
   "source": [
    "data.bbu.corr(data.bbl, method='spearman')"
   ]
  },
  {
   "cell_type": "markdown",
   "metadata": {},
   "source": [
    "### Plot Indicators for randomly sample ticker"
   ]
  },
  {
   "cell_type": "code",
   "execution_count": 121,
   "metadata": {
    "ExecuteTime": {
     "end_time": "2021-02-23T20:58:23.603017Z",
     "start_time": "2021-02-23T20:58:22.490614Z"
    }
   },
   "outputs": [
    {
     "data": {
      "image/png": "[encoded data removed]",
      "text/plain": [
       "<Figure size 1600x1000 with 6 Axes>"
      ]
     },
     "metadata": {},
     "output_type": "display_data"
    }
   ],
   "source": [
    "indicators = ['close', 'bbl', 'bbu', 'PPO', 'NATR', 'RSI']\n",
    "ticker = np.random.choice(data.index.get_level_values('ticker'))\n",
    "(data.loc[idx[ticker, :], indicators].reset_index('ticker', drop=True)\n",
    " .plot(lw=1, subplots=True, figsize=(16, 10), title=indicators, layout=(3, 2), legend=False))\n",
    "plt.suptitle(ticker, fontsize=14)\n",
    "sns.despine()\n",
    "plt.tight_layout()\n",
    "plt.subplots_adjust(top=.95)"
   ]
  },
  {
   "cell_type": "code",
   "execution_count": 122,
   "metadata": {
    "ExecuteTime": {
     "end_time": "2021-02-23T20:58:23.651877Z",
     "start_time": "2021-02-23T20:58:23.603991Z"
    }
   },
   "outputs": [],
   "source": [
    "data = data.drop(prices.columns, axis=1)"
   ]
  },
  {
   "cell_type": "markdown",
   "metadata": {},
   "source": [
    "### Create time period indicators"
   ]
  },
  {
   "cell_type": "code",
   "execution_count": 123,
   "metadata": {
    "ExecuteTime": {
     "end_time": "2021-02-23T20:58:24.065814Z",
     "start_time": "2021-02-23T20:58:23.653021Z"
    }
   },
   "outputs": [],
   "source": [
    "dates = data.index.get_level_values('date')\n",
    "data['weekday'] = dates.weekday\n",
    "data['month'] = dates.month\n",
    "data['year'] = dates.year"
   ]
  },
  {
   "cell_type": "markdown",
   "metadata": {},
   "source": [
    "## Compute forward returns"
   ]
  },
  {
   "cell_type": "code",
   "execution_count": 124,
   "metadata": {
    "ExecuteTime": {
     "end_time": "2021-02-23T20:58:24.234580Z",
     "start_time": "2021-02-23T20:58:24.067745Z"
    }
   },
   "outputs": [],
   "source": [
    "outcomes = []\n",
    "by_ticker = data.groupby('ticker')\n",
    "for t in intervals:\n",
    "    k = f'fwd_ret_{t:02}'\n",
    "    outcomes.append(k)\n",
    "    data[k] = by_ticker[f'ret_{t}'].shift(-t)"
   ]
  },
  {
   "cell_type": "code",
   "execution_count": 125,
   "metadata": {
    "ExecuteTime": {
     "end_time": "2021-02-23T20:58:24.334797Z",
     "start_time": "2021-02-23T20:58:24.235663Z"
    }
   },
   "outputs": [
    {
     "name": "stdout",
     "output_type": "stream",
     "text": [
      "<class 'pandas.core.frame.DataFrame'>\n",
      "MultiIndex: 2610 entries, ('AAPL', Timestamp('2020-12-07 09:30:00-0500', tz='pytz.FixedOffset(-300)')) to ('AAPL', Timestamp('2020-12-15 14:05:00-0500', tz='pytz.FixedOffset(-300)'))\n",
      "Data columns (total 23 columns):\n",
      " #   Column           Non-Null Count  Dtype  \n",
      "---  ------           --------------  -----  \n",
      " 0   ret_1            2610 non-null   float64\n",
      " 1   ret_rel_perc_1   0 non-null      float64\n",
      " 2   ret_5            2610 non-null   float64\n",
      " 3   ret_rel_perc_5   0 non-null      float64\n",
      " 4   ret_10           2610 non-null   float64\n",
      " 5   ret_rel_perc_10  0 non-null      float64\n",
      " 6   ret_21           2610 non-null   float64\n",
      " 7   ret_rel_perc_21  0 non-null      float64\n",
      " 8   ret_63           2610 non-null   float64\n",
      " 9   ret_rel_perc_63  0 non-null      float64\n",
      " 10  PPO              2585 non-null   float64\n",
      " 11  NATR             2596 non-null   float64\n",
      " 12  RSI              2596 non-null   float64\n",
      " 13  bbl              2606 non-null   float64\n",
      " 14  bbu              2606 non-null   float64\n",
      " 15  weekday          2610 non-null   int64  \n",
      " 16  month            2610 non-null   int64  \n",
      " 17  year             2610 non-null   int64  \n",
      " 18  fwd_ret_01       2609 non-null   float64\n",
      " 19  fwd_ret_05       2605 non-null   float64\n",
      " 20  fwd_ret_10       2600 non-null   float64\n",
      " 21  fwd_ret_21       2589 non-null   float64\n",
      " 22  fwd_ret_63       2547 non-null   float64\n",
      "dtypes: float64(20), int64(3)\n",
      "memory usage: 626.3+ KB\n"
     ]
    }
   ],
   "source": [
    "data.info(null_counts=True)"
   ]
  },
  {
   "cell_type": "code",
   "execution_count": 127,
   "metadata": {
    "ExecuteTime": {
     "end_time": "2021-02-23T20:58:24.790841Z",
     "start_time": "2021-02-23T20:58:24.335874Z"
    }
   },
   "outputs": [],
   "source": [
    "# Identify the problematic index level(s) and convert them to object\n",
    "for i, level in enumerate(data.index.levels):\n",
    "    if pd.api.types.is_extension_array_dtype(level):\n",
    "        data.index = data.index.set_levels(level.astype('object'), level=i)\n",
    "\n",
    "data.to_hdf('data.h5', 'quandl/wiki/prices')"
   ]
  }
 ],
 "metadata": {
  "kernelspec": {
   "display_name": "Python 3 (ipykernel)",
   "language": "python",
   "name": "python3"
  },
  "language_info": {
   "codemirror_mode": {
    "name": "ipython",
    "version": 3
   },
   "file_extension": ".py",
   "mimetype": "text/x-python",
   "name": "python",
   "nbconvert_exporter": "python",
   "pygments_lexer": "ipython3",
   "version": "3.10.14"
  },
  "toc": {
   "base_numbering": 1,
   "nav_menu": {},
   "number_sections": true,
   "sideBar": true,
   "skip_h1_title": true,
   "title_cell": "Table of Contents",
   "title_sidebar": "Contents",
   "toc_cell": false,
   "toc_position": {
    "height": "calc(100% - 180px)",
    "left": "10px",
    "top": "150px",
    "width": "271.167px"
   },
   "toc_section_display": true,
   "toc_window_display": true
  }
 },
 "nbformat": 4,
 "nbformat_minor": 4
}
