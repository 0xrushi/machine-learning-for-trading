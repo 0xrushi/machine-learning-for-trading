{
 "cells": [
  {
   "cell_type": "markdown",
   "metadata": {},
   "source": [
    "# MeanReversion backtest with Portfolio Optimization"
   ]
  },
  {
   "cell_type": "markdown",
   "metadata": {},
   "source": [
    "In the chapter 04, we introduced `zipline` to simulate the computation of alpha factors from trailing cross-sectional market, fundamental, and alternative data. \n",
    "\n",
    "Now we will exploit the alpha factors to derive and act on buy and sell signals using the custom MeanReversion factor developed in the last chapter."
   ]
  },
  {
   "cell_type": "markdown",
   "metadata": {},
   "source": [
    "## Imports"
   ]
  },
  {
   "cell_type": "code",
   "execution_count": 1,
   "metadata": {
    "ExecuteTime": {
     "end_time": "2021-04-15T19:49:50.924009Z",
     "start_time": "2021-04-15T19:49:50.922066Z"
    }
   },
   "outputs": [],
   "source": [
    "import warnings\n",
    "warnings.filterwarnings('ignore')"
   ]
  },
  {
   "cell_type": "code",
   "execution_count": 2,
   "metadata": {
    "ExecuteTime": {
     "end_time": "2021-04-15T19:49:52.141883Z",
     "start_time": "2021-04-15T19:49:50.925252Z"
    }
   },
   "outputs": [],
   "source": [
    "import sys\n",
    "from pytz import UTC\n",
    "import logbook\n",
    "\n",
    "import pandas as pd\n",
    "import numpy as np\n",
    "import matplotlib.pyplot as plt\n",
    "import seaborn as sns\n",
    "\n",
    "from logbook import (NestedSetup, NullHandler, Logger, \n",
    "                     StreamHandler, StderrHandler, \n",
    "                     INFO, WARNING, DEBUG, ERROR)\n",
    "\n",
    "from zipline import run_algorithm\n",
    "from zipline.api import (attach_pipeline,\n",
    "                         date_rules,\n",
    "                         time_rules,\n",
    "                         get_datetime,\n",
    "                         order_target_percent,\n",
    "                         pipeline_output,\n",
    "                         record, schedule_function,\n",
    "                         get_open_orders,\n",
    "                         calendars,\n",
    "                         set_commission, \n",
    "                         set_slippage)\n",
    "from zipline.finance import commission, slippage\n",
    "from zipline.pipeline import Pipeline, CustomFactor\n",
    "from zipline.pipeline.factors import Returns, AverageDollarVolume\n",
    "\n",
    "from pypfopt.efficient_frontier import EfficientFrontier\n",
    "from pypfopt import risk_models, objective_functions\n",
    "from pypfopt import expected_returns\n",
    "from pypfopt.exceptions import OptimizationError\n",
    "\n",
    "from pyfolio.utils import extract_rets_pos_txn_from_zipline"
   ]
  },
  {
   "cell_type": "code",
   "execution_count": 3,
   "metadata": {
    "ExecuteTime": {
     "end_time": "2021-04-15T19:49:52.144743Z",
     "start_time": "2021-04-15T19:49:52.142874Z"
    }
   },
   "outputs": [],
   "source": [
    "sns.set_style('whitegrid')"
   ]
  },
  {
   "cell_type": "markdown",
   "metadata": {},
   "source": [
    "## Logging Setup"
   ]
  },
  {
   "cell_type": "code",
   "execution_count": 4,
   "metadata": {
    "ExecuteTime": {
     "end_time": "2021-04-15T19:49:52.159076Z",
     "start_time": "2021-04-15T19:49:52.145590Z"
    }
   },
   "outputs": [],
   "source": [
    "# setup stdout logging\n",
    "format_string = '[{record.time: %H:%M:%S.%f}]: {record.level_name}: {record.message}'\n",
    "zipline_logging = NestedSetup([NullHandler(level=DEBUG),\n",
    "                               StreamHandler(sys.stdout, format_string=format_string, level=INFO),\n",
    "                               StreamHandler(sys.stdout, format_string=format_string, level=WARNING),\n",
    "                               StreamHandler(sys.stderr, level=ERROR)])\n",
    "zipline_logging.push_application()\n",
    "log = Logger('Algorithm')"
   ]
  },
  {
   "cell_type": "markdown",
   "metadata": {},
   "source": [
    "## Algo Settings"
   ]
  },
  {
   "cell_type": "code",
   "execution_count": 5,
   "metadata": {
    "ExecuteTime": {
     "end_time": "2021-04-15T19:49:52.166662Z",
     "start_time": "2021-04-15T19:49:52.159964Z"
    }
   },
   "outputs": [],
   "source": [
    "# Settings\n",
    "MONTH = 21\n",
    "YEAR = 12 * MONTH\n",
    "N_LONGS = 50\n",
    "N_SHORTS = 50\n",
    "MIN_POS = 5\n",
    "VOL_SCREEN = 1000"
   ]
  },
  {
   "cell_type": "code",
   "execution_count": 6,
   "metadata": {
    "ExecuteTime": {
     "end_time": "2021-04-15T19:49:52.174450Z",
     "start_time": "2021-04-15T19:49:52.167433Z"
    }
   },
   "outputs": [],
   "source": [
    "start = pd.Timestamp('2013-01-01', tz=None)\n",
    "end = pd.Timestamp('2017-01-01', tz=None)\n",
    "capital_base = 1e7"
   ]
  },
  {
   "cell_type": "markdown",
   "metadata": {},
   "source": [
    "## Mean Reversion Factor"
   ]
  },
  {
   "cell_type": "code",
   "execution_count": 7,
   "metadata": {
    "ExecuteTime": {
     "end_time": "2021-04-15T19:49:52.182556Z",
     "start_time": "2021-04-15T19:49:52.175707Z"
    }
   },
   "outputs": [],
   "source": [
    "class MeanReversion(CustomFactor):\n",
    "    \"\"\"Compute ratio of latest monthly return to 12m average,\n",
    "       normalized by std dev of monthly returns\"\"\"\n",
    "    inputs = [Returns(window_length=MONTH)]\n",
    "    window_length = YEAR\n",
    "\n",
    "    def compute(self, today, assets, out, monthly_returns):\n",
    "        df = pd.DataFrame(monthly_returns)\n",
    "        factor = df.iloc[-1].sub(df.mean()).div(df.std())\n",
    "        out[:] = factor"
   ]
  },
  {
   "cell_type": "markdown",
   "metadata": {},
   "source": [
    "## Create Pipeline"
   ]
  },
  {
   "cell_type": "markdown",
   "metadata": {},
   "source": [
    "The Pipeline created by the `compute_factors()` method returns a table with a long and a short column for the 25 stocks with the largest negative and positive deviations of their last monthly return from its annual average, normalized by the standard deviation. It also limited the universe to the 500 stocks with the highest average trading volume over the last 30 trading days. "
   ]
  },
  {
   "cell_type": "code",
   "execution_count": 8,
   "metadata": {
    "ExecuteTime": {
     "end_time": "2021-04-15T19:49:52.193519Z",
     "start_time": "2021-04-15T19:49:52.183446Z"
    }
   },
   "outputs": [],
   "source": [
    "def compute_factors():\n",
    "    \"\"\"Create factor pipeline incl. mean reversion,\n",
    "        filtered by 30d Dollar Volume; capture factor ranks\"\"\"\n",
    "    mean_reversion = MeanReversion()\n",
    "    dollar_volume = AverageDollarVolume(window_length=30)\n",
    "    return Pipeline(columns={'longs'  : mean_reversion.bottom(N_LONGS),\n",
    "                             'shorts' : mean_reversion.top(N_SHORTS),\n",
    "                             'ranking': mean_reversion.rank(ascending=False)},\n",
    "                    screen=dollar_volume.top(VOL_SCREEN))"
   ]
  },
  {
   "cell_type": "markdown",
   "metadata": {},
   "source": [
    "`Before_trading_start()` ensures the daily execution of the pipeline and the recording of the results, including the current prices."
   ]
  },
  {
   "cell_type": "code",
   "execution_count": 9,
   "metadata": {
    "ExecuteTime": {
     "end_time": "2021-04-15T19:49:52.201905Z",
     "start_time": "2021-04-15T19:49:52.194448Z"
    }
   },
   "outputs": [],
   "source": [
    "def before_trading_start(context, data):\n",
    "    \"\"\"Run factor pipeline\"\"\"\n",
    "    context.factor_data = pipeline_output('factor_pipeline')\n",
    "    record(factor_data=context.factor_data.ranking)\n",
    "    assets = context.factor_data.index\n",
    "    record(prices=data.current(assets, 'price'))"
   ]
  },
  {
   "cell_type": "markdown",
   "metadata": {},
   "source": [
    "## Set up Rebalancing"
   ]
  },
  {
   "cell_type": "markdown",
   "metadata": {},
   "source": [
    "The new `rebalance()` method submits trade orders to the `exec_trades()` method for the assets flagged for long and short positions by the pipeline with equal positive and negative weights. \n",
    "\n",
    "It also divests any current holdings that are no longer included in the factor signals:"
   ]
  },
  {
   "cell_type": "code",
   "execution_count": 10,
   "metadata": {
    "ExecuteTime": {
     "end_time": "2021-04-15T19:49:52.223739Z",
     "start_time": "2021-04-15T19:49:52.202994Z"
    }
   },
   "outputs": [],
   "source": [
    "def exec_trades(data, positions):\n",
    "    \"\"\"Place orders for assets using target portfolio percentage\"\"\"\n",
    "    for asset, target_percent in positions.items():\n",
    "        if data.can_trade(asset) and not get_open_orders(asset):\n",
    "            order_target_percent(asset, target_percent)"
   ]
  },
  {
   "cell_type": "code",
   "execution_count": 11,
   "metadata": {
    "ExecuteTime": {
     "end_time": "2021-04-15T19:49:52.242961Z",
     "start_time": "2021-04-15T19:49:52.224954Z"
    }
   },
   "outputs": [],
   "source": [
    "def rebalance(context, data):\n",
    "    \"\"\"Compute long, short and obsolete holdings; place orders\"\"\"\n",
    "\n",
    "    factor_data = context.factor_data\n",
    "    assets = factor_data.index\n",
    "\n",
    "    longs = assets[factor_data.longs]\n",
    "    shorts = assets[factor_data.shorts]\n",
    "    \n",
    "    divest = context.portfolio.positions.keys() - longs.union(shorts)\n",
    "    exec_trades(data, positions={asset: 0 for asset in divest})\n",
    "    log.info('{} | {:11,.0f}'.format(get_datetime().date(), \n",
    "                                   context.portfolio.portfolio_value))\n",
    "\n",
    "    # get price history\n",
    "    prices = data.history(assets, fields='price',\n",
    "                          bar_count=252+1, # for 1 year of returns \n",
    "                          frequency='1d')\n",
    "    \n",
    "    # get optimal weights if sufficient candidates\n",
    "    if len(longs) > MIN_POS and len(shorts) > MIN_POS:\n",
    "        try:\n",
    "            long_weights = optimize_weights(prices.loc[:, longs])\n",
    "            short_weights = optimize_weights(prices.loc[:, shorts], short=True)\n",
    "            \n",
    "            exec_trades(data, positions=long_weights)\n",
    "            exec_trades(data, positions=short_weights)\n",
    "        except Exception as e:\n",
    "            log.warn('{} {}'.format(get_datetime().date(), e))\n",
    "    # exit remaining positions\n",
    "    divest_pf = {asset: 0 for asset in context.portfolio.positions.keys()}\n",
    "    exec_trades(data, positions=divest_pf)"
   ]
  },
  {
   "cell_type": "markdown",
   "metadata": {},
   "source": [
    "## Optimize Portfolio Weights"
   ]
  },
  {
   "cell_type": "code",
   "execution_count": 12,
   "metadata": {
    "ExecuteTime": {
     "end_time": "2021-04-15T19:49:52.253389Z",
     "start_time": "2021-04-15T19:49:52.243903Z"
    }
   },
   "outputs": [],
   "source": [
    "def optimize_weights(prices, short=False):\n",
    "\n",
    "    returns = expected_returns.mean_historical_return(\n",
    "        prices=prices, frequency=252)\n",
    "    cov = risk_models.sample_cov(prices=prices, frequency=252)\n",
    "\n",
    "    # get weights that maximize the Sharpe ratio\n",
    "    ef = EfficientFrontier(expected_returns=returns,\n",
    "                           cov_matrix=cov,\n",
    "                           weight_bounds=(0, 1),\n",
    "                           solver='SCS')\n",
    "    ef.max_sharpe()\n",
    "    if short:\n",
    "        return {asset: -weight for asset, weight in ef.clean_weights().items()}\n",
    "    else:\n",
    "        return ef.clean_weights()"
   ]
  },
  {
   "cell_type": "markdown",
   "metadata": {},
   "source": [
    "## Initialize Backtest"
   ]
  },
  {
   "cell_type": "markdown",
   "metadata": {},
   "source": [
    "The `rebalance()` method runs according to `date_rules` and `time_rules` set by the `schedule_function()` utility at the beginning of the week, right after `market_open` as stipulated by the built-in `US_EQUITIES` calendar (see docs for details on rules). \n",
    "\n",
    "You can also specify a trade commission both in relative terms and as a minimum amount. There is also an option to define slippage, which is the cost of an adverse change in price between trade decision and execution"
   ]
  },
  {
   "cell_type": "code",
   "execution_count": 13,
   "metadata": {
    "ExecuteTime": {
     "end_time": "2021-04-15T19:49:52.261143Z",
     "start_time": "2021-04-15T19:49:52.254205Z"
    }
   },
   "outputs": [],
   "source": [
    "def initialize(context):\n",
    "    \"\"\"Setup: register pipeline, schedule rebalancing,\n",
    "        and set trading params\"\"\"\n",
    "    attach_pipeline(compute_factors(), 'factor_pipeline')\n",
    "    schedule_function(rebalance,\n",
    "                      date_rules.week_start(),\n",
    "                      time_rules.market_open(),\n",
    "                      calendar=calendars.US_EQUITIES)\n",
    "\n",
    "    set_commission(us_equities=commission.PerShare(cost=0.00075, min_trade_cost=.01))\n",
    "    set_slippage(us_equities=slippage.VolumeShareSlippage(volume_limit=0.0025, price_impact=0.01))"
   ]
  },
  {
   "cell_type": "markdown",
   "metadata": {},
   "source": [
    "## Run Algorithm"
   ]
  },
  {
   "cell_type": "markdown",
   "metadata": {},
   "source": [
    "The algorithm executes upon calling the `run_algorithm()` function and returns the backtest performance `DataFrame`."
   ]
  },
  {
   "cell_type": "code",
   "execution_count": null,
   "metadata": {
    "ExecuteTime": {
     "end_time": "2021-04-15T19:59:47.818235Z",
     "start_time": "2021-04-15T19:49:52.262074Z"
    }
   },
   "outputs": [
    {
     "name": "stdout",
     "output_type": "stream",
     "text": [
      "[ 03:50:39.065932]: INFO: 2013-01-07 |  10,000,000\n",
      "[ 03:50:44.722571]: INFO: 2013-01-14 |   9,922,439\n",
      "[ 03:50:46.486992]: INFO: 2013-01-22 |   9,913,618\n",
      "[ 03:50:48.154511]: INFO: 2013-01-28 |   9,968,673\n",
      "[ 03:50:49.974792]: INFO: 2013-02-04 |  10,079,413\n",
      "[ 03:50:52.639076]: INFO: 2013-02-11 |  10,103,568\n",
      "[ 03:50:55.094813]: INFO: 2013-02-19 |   9,771,114\n",
      "[ 03:50:57.338651]: INFO: 2013-02-25 |  10,061,852\n",
      "[ 03:50:59.820443]: INFO: 2013-03-04 |  10,162,347\n",
      "[ 03:51:02.122890]: INFO: 2013-03-11 |   9,563,307\n",
      "[ 03:51:05.330347]: INFO: 2013-03-18 |   9,311,865\n",
      "[ 03:51:07.722198]: INFO: 2013-03-25 |   9,064,145\n",
      "[ 03:51:10.011868]: INFO: 2013-04-01 |   8,643,987\n",
      "[ 03:51:12.684717]: INFO: 2013-04-08 |   8,722,025\n",
      "[ 03:51:15.236861]: INFO: 2013-04-15 |   8,552,162\n",
      "[ 03:51:17.879044]: INFO: 2013-04-22 |   8,186,980\n",
      "[ 03:51:20.414007]: INFO: 2013-04-29 |   9,080,224\n",
      "[ 03:51:22.945001]: INFO: 2013-05-06 |   8,277,438\n",
      "[ 03:51:25.566199]: INFO: 2013-05-13 |   8,018,017\n",
      "[ 03:51:29.003577]: INFO: 2013-05-20 |   7,805,300\n",
      "[ 03:51:32.058182]: INFO: 2013-05-28 |   6,806,387\n",
      "[ 03:51:34.777641]: INFO: 2013-06-03 |   7,034,401\n",
      "[ 03:51:38.071477]: INFO: 2013-06-10 |   7,315,183\n",
      "[ 03:51:41.059769]: INFO: 2013-06-17 |   7,620,282\n",
      "[ 03:51:43.989127]: INFO: 2013-06-24 |   6,403,048\n",
      "[ 03:51:46.938699]: INFO: 2013-07-01 |   5,958,425\n",
      "[ 03:51:49.788552]: INFO: 2013-07-08 |   5,427,617\n",
      "[ 03:51:54.320540]: INFO: 2013-07-15 |   5,956,522\n",
      "[ 03:51:57.965395]: INFO: 2013-07-22 |   6,237,724\n",
      "[ 03:52:01.004874]: INFO: 2013-07-29 |   6,059,631\n",
      "[ 03:52:03.778014]: INFO: 2013-08-05 |   6,453,880\n",
      "[ 03:52:06.606084]: INFO: 2013-08-12 |   6,967,990\n",
      "[ 03:52:09.371197]: INFO: 2013-08-19 |   5,543,081\n",
      "[ 03:52:12.154705]: INFO: 2013-08-26 |   6,376,669\n",
      "[ 03:52:14.953839]: INFO: 2013-09-03 |   6,426,317\n",
      "[ 03:52:17.416288]: INFO: 2013-09-09 |   7,392,377\n",
      "[ 03:52:20.292879]: INFO: 2013-09-16 |   7,314,860\n",
      "[ 03:52:23.980772]: INFO: 2013-09-23 |   7,812,678\n",
      "[ 03:52:27.175156]: INFO: 2013-09-30 |   6,989,440\n",
      "[ 03:52:30.258702]: INFO: 2013-10-07 |   6,107,873\n",
      "[ 03:52:33.002494]: INFO: 2013-10-14 |   6,255,658\n",
      "[ 03:52:35.517883]: INFO: 2013-10-21 |   7,069,490\n",
      "[ 03:52:37.792685]: INFO: 2013-10-28 |   7,059,297\n",
      "[ 03:52:40.248695]: INFO: 2013-11-04 |   7,314,789\n",
      "[ 03:52:42.363057]: INFO: 2013-11-11 |   6,430,068\n",
      "[ 03:52:44.717136]: INFO: 2013-11-18 |   6,851,297\n",
      "[ 03:52:47.667721]: INFO: 2013-11-25 |   6,796,007\n",
      "[ 03:52:49.885054]: INFO: 2013-12-02 |   7,138,129\n",
      "[ 03:52:52.043085]: INFO: 2013-12-09 |   6,885,838\n",
      "[ 03:52:54.480778]: INFO: 2013-12-16 |   6,547,864\n",
      "[ 03:52:57.064702]: INFO: 2013-12-23 |   7,444,150\n",
      "[ 03:52:59.323865]: INFO: 2013-12-30 |   7,447,193\n",
      "[ 03:53:02.011925]: INFO: 2014-01-06 |   7,374,757\n",
      "[ 03:53:04.676669]: INFO: 2014-01-13 |   7,084,666\n",
      "[ 03:53:07.911311]: INFO: 2014-01-21 |   6,751,980\n",
      "[ 03:53:10.574640]: INFO: 2014-01-27 |   6,524,959\n",
      "[ 03:53:12.873421]: INFO: 2014-02-03 |   6,588,644\n",
      "[ 03:53:15.086706]: INFO: 2014-02-10 |   7,065,852\n",
      "[ 03:53:17.431938]: INFO: 2014-02-18 |   7,890,301\n",
      "[ 03:53:19.498075]: INFO: 2014-02-24 |   7,673,460\n",
      "[ 03:53:21.475549]: INFO: 2014-03-03 |   8,763,786\n",
      "[ 03:53:23.392655]: INFO: 2014-03-10 |   8,840,749\n",
      "[ 03:53:25.310551]: INFO: 2014-03-17 |   8,784,623\n",
      "[ 03:53:27.369933]: INFO: 2014-03-24 |   8,376,470\n",
      "[ 03:53:29.545491]: INFO: 2014-03-31 |   8,447,350\n",
      "[ 03:53:31.192416]: INFO: 2014-04-07 |   7,680,084\n",
      "[ 03:53:33.002625]: INFO: 2014-04-14 |   7,083,656\n",
      "[ 03:53:34.867009]: INFO: 2014-04-21 |   7,696,488\n",
      "[ 03:53:36.666075]: INFO: 2014-04-28 |   7,575,256\n",
      "[ 03:53:38.404386]: INFO: 2014-05-05 |   7,953,879\n",
      "[ 03:53:40.055307]: INFO: 2014-05-12 |   8,167,123\n",
      "[ 03:53:41.846011]: INFO: 2014-05-19 |   7,087,391\n",
      "[ 03:53:43.603444]: INFO: 2014-05-27 |   7,551,585\n",
      "[ 03:53:45.486900]: INFO: 2014-06-02 |   7,381,840\n",
      "[ 03:53:47.046545]: INFO: 2014-06-09 |   7,705,943\n",
      "[ 03:53:49.187455]: INFO: 2014-06-16 |   7,454,974\n",
      "[ 03:53:51.245119]: INFO: 2014-06-23 |   7,465,700\n",
      "[ 03:53:53.215765]: INFO: 2014-06-30 |   7,801,411\n",
      "[ 03:53:54.778552]: INFO: 2014-07-07 |   8,037,769\n",
      "[ 03:53:56.579525]: INFO: 2014-07-14 |   7,956,137\n",
      "[ 03:53:59.803577]: INFO: 2014-07-21 |   8,362,074\n",
      "[ 03:54:01.610166]: INFO: 2014-07-28 |   8,230,713\n",
      "[ 03:54:03.900828]: INFO: 2014-08-04 |   8,328,381\n",
      "[ 03:54:05.710598]: INFO: 2014-08-11 |   8,847,871\n",
      "[ 03:54:07.411368]: INFO: 2014-08-18 |   9,353,642\n",
      "[ 03:54:08.939272]: INFO: 2014-08-25 |   9,398,638\n",
      "[ 03:54:10.593563]: INFO: 2014-09-02 |   9,512,592\n",
      "[ 03:54:12.302094]: INFO: 2014-09-08 |   8,988,873\n",
      "[ 03:54:14.413574]: INFO: 2014-09-15 |   9,256,590\n",
      "[ 03:54:16.066031]: INFO: 2014-09-22 |   9,217,425\n",
      "[ 03:54:17.664420]: INFO: 2014-09-29 |   8,063,351\n",
      "[ 03:54:20.192552]: INFO: 2014-10-06 |   6,260,688\n",
      "[ 03:54:22.006708]: INFO: 2014-10-13 |   4,449,537\n",
      "[ 03:54:23.612397]: INFO: 2014-10-20 |   5,543,004\n",
      "[ 03:54:25.166195]: INFO: 2014-10-27 |   6,187,244\n",
      "[ 03:54:26.765374]: INFO: 2014-11-03 |   7,417,382\n",
      "[ 03:54:28.255461]: INFO: 2014-11-10 |   7,315,291\n",
      "[ 03:54:29.731434]: INFO: 2014-11-17 |   7,709,553\n"
     ]
    }
   ],
   "source": [
    "backtest = run_algorithm(start=start,\n",
    "                         end=end,\n",
    "                         initialize=initialize,\n",
    "                         before_trading_start=before_trading_start,\n",
    "                         bundle='quandl',\n",
    "                         capital_base=capital_base)"
   ]
  },
  {
   "cell_type": "markdown",
   "metadata": {},
   "source": [
    "## Extract pyfolio Inputs"
   ]
  },
  {
   "cell_type": "markdown",
   "metadata": {},
   "source": [
    "The `extract_rets_pos_txn_from_zipline` utility provided by `pyfolio` extracts the data used to compute performance metrics."
   ]
  },
  {
   "cell_type": "code",
   "execution_count": null,
   "metadata": {
    "ExecuteTime": {
     "end_time": "2021-04-15T19:59:48.896101Z",
     "start_time": "2021-04-15T19:59:47.819858Z"
    }
   },
   "outputs": [],
   "source": [
    "returns, positions, transactions = extract_rets_pos_txn_from_zipline(backtest)"
   ]
  },
  {
   "cell_type": "markdown",
   "metadata": {},
   "source": [
    "## Persist Results for use with `pyfolio`"
   ]
  },
  {
   "cell_type": "code",
   "execution_count": null,
   "metadata": {
    "ExecuteTime": {
     "end_time": "2021-04-15T19:59:48.930171Z",
     "start_time": "2021-04-15T19:59:48.897706Z"
    }
   },
   "outputs": [],
   "source": [
    "with pd.HDFStore('backtests.h5') as store:\n",
    "    store.put('returns/pf_opt', returns)\n",
    "    store.put('transactions/pf_opt', transactions)"
   ]
  },
  {
   "cell_type": "code",
   "execution_count": null,
   "metadata": {
    "ExecuteTime": {
     "end_time": "2021-04-15T19:59:49.064963Z",
     "start_time": "2021-04-15T19:59:48.931263Z"
    }
   },
   "outputs": [],
   "source": [
    "with pd.HDFStore('backtests.h5') as store:\n",
    "    returns_pf = store['returns/pf_opt']\n",
    "    tx_pf = store['transactions/pf_opt']\n",
    "    returns_ew = store['returns/equal_weight']\n",
    "    tx_ew = store['transactions/equal_weight']"
   ]
  },
  {
   "cell_type": "markdown",
   "metadata": {},
   "source": [
    "## Plot Results"
   ]
  },
  {
   "cell_type": "code",
   "execution_count": null,
   "metadata": {
    "ExecuteTime": {
     "end_time": "2021-04-15T19:59:49.417803Z",
     "start_time": "2021-04-15T19:59:49.066143Z"
    }
   },
   "outputs": [],
   "source": [
    "fig, axes= plt.subplots(nrows=2, figsize=(14,6))\n",
    "returns.add(1).cumprod().sub(1).plot(ax=axes[0], title='Cumulative Returns')\n",
    "transactions.groupby(transactions.dt.dt.day).txn_dollars.sum().cumsum().plot(ax=axes[1], title='Cumulative Transactions')\n",
    "sns.despine()\n",
    "fig.tight_layout();"
   ]
  },
  {
   "cell_type": "code",
   "execution_count": null,
   "metadata": {
    "ExecuteTime": {
     "end_time": "2021-04-15T19:59:50.077791Z",
     "start_time": "2021-04-15T19:59:49.418674Z"
    }
   },
   "outputs": [],
   "source": [
    "fig, axes = plt.subplots(nrows=2, ncols=2, figsize=(16, 8), sharey='col')\n",
    "returns_ew.add(1).cumprod().sub(1).plot(ax=axes[0][0],\n",
    "                                        title='Cumulative Returns - Equal Weight')\n",
    "returns_pf.add(1).cumprod().sub(1).plot(ax=axes[1][0],\n",
    "                                        title='Cumulative Returns - Mean-Variance Optimization')\n",
    "tx_ew.groupby(tx_ew.dt.dt.day).txn_dollars.sum().cumsum().plot(ax=axes[0][1],\n",
    "                                                               title='Cumulative Transactions - Equal Weight')\n",
    "tx_pf.groupby(tx_pf.dt.dt.day).txn_dollars.sum().cumsum().plot(ax=axes[1][1],\n",
    "                                                               title='Cumulative Transactions - Mean-Variance Optimization')\n",
    "fig.suptitle('Equal Weight vs Mean-Variance Optimization', fontsize=16)\n",
    "sns.despine()\n",
    "fig.tight_layout()\n",
    "fig.subplots_adjust(top=.9)"
   ]
  },
  {
   "cell_type": "code",
   "execution_count": null,
   "metadata": {},
   "outputs": [],
   "source": []
  }
 ],
 "metadata": {
  "kernelspec": {
   "display_name": "Python 3 (ipykernel)",
   "language": "python",
   "name": "python3"
  },
  "language_info": {
   "codemirror_mode": {
    "name": "ipython",
    "version": 3
   },
   "file_extension": ".py",
   "mimetype": "text/x-python",
   "name": "python",
   "nbconvert_exporter": "python",
   "pygments_lexer": "ipython3",
   "version": "3.10.14"
  },
  "toc": {
   "base_numbering": 1,
   "nav_menu": {},
   "number_sections": true,
   "sideBar": true,
   "skip_h1_title": true,
   "title_cell": "Table of Contents",
   "title_sidebar": "Contents",
   "toc_cell": false,
   "toc_position": {
    "height": "calc(100% - 180px)",
    "left": "10px",
    "top": "150px",
    "width": "252.628px"
   },
   "toc_section_display": true,
   "toc_window_display": true
  }
 },
 "nbformat": 4,
 "nbformat_minor": 4
}
